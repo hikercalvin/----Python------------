{
 "cells": [
  {
   "cell_type": "code",
   "execution_count": 2,
   "metadata": {},
   "outputs": [
    {
     "data": {
      "text/plain": [
       "0.26741624730336655"
      ]
     },
     "execution_count": 2,
     "metadata": {},
     "output_type": "execute_result"
    }
   ],
   "source": [
    "import random\n",
    "random.random()"
   ]
  },
  {
   "cell_type": "code",
   "execution_count": 4,
   "metadata": {},
   "outputs": [
    {
     "name": "stdout",
     "output_type": "stream",
     "text": [
      "9.95623455863672\n",
      "99.3062785538811\n"
     ]
    }
   ],
   "source": [
    "print(random.uniform(1,10))\n",
    "print(random.uniform(99,100))"
   ]
  },
  {
   "cell_type": "code",
   "execution_count": 7,
   "metadata": {},
   "outputs": [
    {
     "data": {
      "text/plain": [
       "8"
      ]
     },
     "execution_count": 7,
     "metadata": {},
     "output_type": "execute_result"
    }
   ],
   "source": [
    "random.randint(1,10)"
   ]
  },
  {
   "cell_type": "code",
   "execution_count": 10,
   "metadata": {},
   "outputs": [
    {
     "name": "stdout",
     "output_type": "stream",
     "text": [
      "=================猜數字遊戲===============\n",
      "猜錯了\n",
      "猜錯了\n",
      "猜錯了\n",
      "猜錯了\n",
      "猜對了，答案是:3\n",
      "你總共猜5次\n",
      "遊戲結束\n"
     ]
    }
   ],
   "source": [
    "min = 1\n",
    "max = 10\n",
    "count = 0 \n",
    "random_value = random.randint(min,max)\n",
    "print(\"=================猜數字遊戲===============\")\n",
    "while True:\n",
    "    count +=1\n",
    "    keyin = int(input(f\"猜數字範圍{min}~{max}:\"))\n",
    "    if(keyin == random_value):\n",
    "        print(f\"猜對了，答案是:{random_value}\")\n",
    "        print(f\"你總共猜{count}次\")\n",
    "        break\n",
    "    else:\n",
    "        print(\"猜錯了\")\n",
    "print(\"遊戲結束\")\n",
    "\n"
   ]
  },
  {
   "cell_type": "code",
   "execution_count": 11,
   "metadata": {},
   "outputs": [
    {
     "name": "stdout",
     "output_type": "stream",
     "text": [
      "=============猜數字遊戲=================\n",
      "再大一點\n",
      "您已經猜了1次\n",
      "再大一點\n",
      "您已經猜了2次\n",
      "再小一點\n",
      "您已經猜了3次\n",
      "再小一點\n",
      "您已經猜了4次\n",
      "再小一點\n",
      "您已經猜了5次\n",
      "再小一點\n",
      "您已經猜了6次\n",
      "再小一點\n",
      "您已經猜了7次\n",
      "再小一點\n",
      "您已經猜了8次\n",
      "超出範圍\n",
      "再小一點\n",
      "您已經猜了10次\n",
      "再大一點\n",
      "您已經猜了11次\n",
      "再大一點\n",
      "您已經猜了12次\n",
      "猜對了,答案是:15\n",
      "您總共猜13次\n",
      "遊戲結束\n"
     ]
    }
   ],
   "source": [
    "\n",
    "min = 1\n",
    "max = 100\n",
    "count = 0\n",
    "random_value = random.randint(min,max)\n",
    "print(\"=============猜數字遊戲=================\")\n",
    "while True:\n",
    "    count += 1\n",
    "    keyin = int(input(f\"猜數字的範圍{min}~{max}:\"))\n",
    "    if keyin >= min and keyin <= max :\n",
    "        if(keyin == random_value):\n",
    "            print(f\"猜對了,答案是:{random_value}\")\n",
    "            print(f\"您總共猜{count}次\")\n",
    "            break\n",
    "        elif keyin > random_value:\n",
    "            print(\"再小一點\")\n",
    "            max = keyin - 1\n",
    "        elif keyin < random_value:\n",
    "            print(\"再大一點\")\n",
    "            min = keyin + 1\n",
    "        print(f\"您已經猜了{count}次\")\n",
    "    else:\n",
    "        print(\"超出範圍\")\n",
    "\n",
    "print(\"遊戲結束\")"
   ]
  },
  {
   "cell_type": "code",
   "execution_count": null,
   "metadata": {},
   "outputs": [],
   "source": []
  }
 ],
 "metadata": {
  "kernelspec": {
   "display_name": "Python 3.10.1 64-bit",
   "language": "python",
   "name": "python3"
  },
  "language_info": {
   "codemirror_mode": {
    "name": "ipython",
    "version": 3
   },
   "file_extension": ".py",
   "mimetype": "text/x-python",
   "name": "python",
   "nbconvert_exporter": "python",
   "pygments_lexer": "ipython3",
   "version": "3.10.1"
  },
  "orig_nbformat": 4,
  "vscode": {
   "interpreter": {
    "hash": "4e80c4baf5e641fac6523c17bfd79259ab5673f5741fe27d6a601185cb5f2776"
   }
  }
 },
 "nbformat": 4,
 "nbformat_minor": 2
}
