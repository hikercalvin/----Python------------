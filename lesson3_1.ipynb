{
 "cells": [
  {
   "cell_type": "code",
   "execution_count": 2,
   "metadata": {},
   "outputs": [
    {
     "name": "stdout",
     "output_type": "stream",
     "text": [
      "國文分數是90\n",
      "及格\n",
      "程式結束\n"
     ]
    }
   ],
   "source": [
    "chinese_str = input(\"請輸入國文分數:\")\n",
    "chinese_int = int(chinese_str)\n",
    "if chinese_int >= 60:\n",
    "    print(f\"國文分數是{chinese_int}\")\n",
    "    print(\"及格\")\n",
    "else:\n",
    "    print(\"沒有複習\")\n",
    "    print(\"不及格\")\n",
    "print(\"程式結束\")"
   ]
  },
  {
   "cell_type": "code",
   "execution_count": 3,
   "metadata": {},
   "outputs": [
    {
     "name": "stdout",
     "output_type": "stream",
     "text": [
      "丙\n"
     ]
    }
   ],
   "source": [
    "\n",
    "'''\n",
    "• 90(含)~100分為「優」\n",
    "• 80(含)~89分為「甲」\n",
    "• 70(含)~79分為「乙」\n",
    "• 60(含)~69分為「丙」\n",
    "• 0(含)~59分為「丁」\n",
    "'''\n",
    "#多項選擇\n",
    "chinese = int(input(\"請輸入國文分數:\"))\n",
    "if chinese >= 90:\n",
    "    print(\"優\")\n",
    "elif chinese >= 80:\n",
    "    print(\"甲\")\n",
    "elif chinese >= 70:\n",
    "    print(\"乙\")\n",
    "elif chinese >= 60:\n",
    "    print(\"丙\")\n",
    "else:\n",
    "    print(\"丁\")"
   ]
  },
  {
   "cell_type": "code",
   "execution_count": 6,
   "metadata": {},
   "outputs": [
    {
     "name": "stdout",
     "output_type": "stream",
     "text": [
      "獎金是:1000\n"
     ]
    }
   ],
   "source": [
    "chinese = int(input(\"請輸入國文分數:\"))\n",
    "english = int(input(\"請輸入數學分數:\"))\n",
    "bonus = 0\n",
    "if chinese == 100:\n",
    "    if english == 100:\n",
    "        bonus = 1000\n",
    "    else:\n",
    "        bonus  = 500\n",
    "else:\n",
    "    if english == 100:\n",
    "        bonus = 500\n",
    "    else:\n",
    "        bonus  = 0\n",
    "\n",
    "print(f\"獎金是:{bonus}\")"
   ]
  },
  {
   "cell_type": "code",
   "execution_count": 7,
   "metadata": {},
   "outputs": [
    {
     "name": "stdout",
     "output_type": "stream",
     "text": [
      "獎金:1000\n"
     ]
    }
   ],
   "source": [
    "chinese = int(input(\"請輸入國文分數:\"))\n",
    "english = int(input(\"請輸入數學分數:\"))\n",
    "bonus = 0\n",
    "\n",
    "if chinese == 100 and english == 100:\n",
    "    bonus = 1000\n",
    "elif chinese == 100 or english == 100:\n",
    "    bonus = 500\n",
    "else:\n",
    "    bonus = 0\n",
    "\n",
    "print(f\"獎金:{bonus}\")"
   ]
  },
  {
   "cell_type": "code",
   "execution_count": 8,
   "metadata": {},
   "outputs": [
    {
     "name": "stdout",
     "output_type": "stream",
     "text": [
      "BMI=22.09\n",
      "正常\n"
     ]
    }
   ],
   "source": [
    "height = eval(input(\"請輸入身高(公分):\"))\n",
    "weight = eval(input(\"請輸入體重(公斤):\"))\n",
    "\n",
    "bmi = weight / (height / 100) ** 2\n",
    "\n",
    "print(f\"BMI={bmi:.2f}\")\n",
    "\n",
    "if bmi < 18.5 :\n",
    "    state = \"體重過輕\"\n",
    "elif bmi < 24:\n",
    "    state = \"正常\"\n",
    "elif bmi < 27:\n",
    "    state = \"體重過重\"\n",
    "elif bmi < 30:\n",
    "    state = \"輕度肥胖\"\n",
    "elif bmi < 35:\n",
    "    state = \"中度肥胖\"\n",
    "else:\n",
    "    state = \"重度肥胖\"\n",
    "\n",
    "print(state)\n"
   ]
  },
  {
   "cell_type": "code",
   "execution_count": null,
   "metadata": {},
   "outputs": [],
   "source": []
  }
 ],
 "metadata": {
  "kernelspec": {
   "display_name": "Python 3.10.1 64-bit",
   "language": "python",
   "name": "python3"
  },
  "language_info": {
   "codemirror_mode": {
    "name": "ipython",
    "version": 3
   },
   "file_extension": ".py",
   "mimetype": "text/x-python",
   "name": "python",
   "nbconvert_exporter": "python",
   "pygments_lexer": "ipython3",
   "version": "3.10.1"
  },
  "orig_nbformat": 4,
  "vscode": {
   "interpreter": {
    "hash": "4e80c4baf5e641fac6523c17bfd79259ab5673f5741fe27d6a601185cb5f2776"
   }
  }
 },
 "nbformat": 4,
 "nbformat_minor": 2
}
